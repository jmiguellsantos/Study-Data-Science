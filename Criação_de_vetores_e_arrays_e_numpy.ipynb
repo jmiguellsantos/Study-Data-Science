{
  "nbformat": 4,
  "nbformat_minor": 0,
  "metadata": {
    "colab": {
      "name": "Criação de vetores e arrays e numpy.ipynb",
      "provenance": [],
      "authorship_tag": "ABX9TyMc7ja/MmnUufwLmdfDLcJc",
      "include_colab_link": true
    },
    "kernelspec": {
      "name": "python3",
      "display_name": "Python 3"
    },
    "language_info": {
      "name": "python"
    }
  },
  "cells": [
    {
      "cell_type": "markdown",
      "metadata": {
        "id": "view-in-github",
        "colab_type": "text"
      },
      "source": [
        "<a href=\"https://colab.research.google.com/github/jmiguellsantos/Study-Data-Science/blob/main/Cria%C3%A7%C3%A3o_de_vetores_e_arrays_e_numpy.ipynb\" target=\"_parent\"><img src=\"https://colab.research.google.com/assets/colab-badge.svg\" alt=\"Open In Colab\"/></a>"
      ]
    },
    {
      "cell_type": "code",
      "metadata": {
        "id": "n22qCCXWxh5V"
      },
      "source": [
        "import numpy as np\n",
        "  "
      ],
      "execution_count": 12,
      "outputs": []
    },
    {
      "cell_type": "code",
      "metadata": {
        "id": "wiasnU8UyWDM"
      },
      "source": [
        "minha_lista = [1,2,3]"
      ],
      "execution_count": 13,
      "outputs": []
    },
    {
      "cell_type": "code",
      "metadata": {
        "id": "000E2IDXyoXb"
      },
      "source": [
        "minha_lista1 = [4,5,6]\n"
      ],
      "execution_count": 14,
      "outputs": []
    },
    {
      "cell_type": "code",
      "metadata": {
        "id": "4PyrvxKvyrTT"
      },
      "source": [
        "minha_lista2 = [7,8,9]"
      ],
      "execution_count": 15,
      "outputs": []
    },
    {
      "cell_type": "code",
      "metadata": {
        "colab": {
          "base_uri": "https://localhost:8080/"
        },
        "id": "PtusJ-C-yvzT",
        "outputId": "a6b5513c-2f6c-4fc8-c238-8032fe76ecbf"
      },
      "source": [
        "minha_lista"
      ],
      "execution_count": 16,
      "outputs": [
        {
          "output_type": "execute_result",
          "data": {
            "text/plain": [
              "[1, 2, 3]"
            ]
          },
          "metadata": {
            "tags": []
          },
          "execution_count": 16
        }
      ]
    },
    {
      "cell_type": "code",
      "metadata": {
        "colab": {
          "base_uri": "https://localhost:8080/"
        },
        "id": "JWE7IicqyxhT",
        "outputId": "e7886224-a6d4-4762-a3d0-3bb291af7ce9"
      },
      "source": [
        "minha_lista1"
      ],
      "execution_count": 18,
      "outputs": [
        {
          "output_type": "execute_result",
          "data": {
            "text/plain": [
              "[4, 5, 6]"
            ]
          },
          "metadata": {
            "tags": []
          },
          "execution_count": 18
        }
      ]
    },
    {
      "cell_type": "code",
      "metadata": {
        "colab": {
          "base_uri": "https://localhost:8080/"
        },
        "id": "FI4DdZDNyyyU",
        "outputId": "ac5437f1-a19e-43fd-fb3c-f235dde2cc60"
      },
      "source": [
        "minha_lista2"
      ],
      "execution_count": 19,
      "outputs": [
        {
          "output_type": "execute_result",
          "data": {
            "text/plain": [
              "[7, 8, 9]"
            ]
          },
          "metadata": {
            "tags": []
          },
          "execution_count": 19
        }
      ]
    },
    {
      "cell_type": "code",
      "metadata": {
        "id": "92ga1ggMy24z"
      },
      "source": [
        "minha_matriz = [minha_lista, minha_lista1 , minha_lista2]"
      ],
      "execution_count": 20,
      "outputs": []
    },
    {
      "cell_type": "code",
      "metadata": {
        "colab": {
          "base_uri": "https://localhost:8080/"
        },
        "id": "Bb0lsbrJy_er",
        "outputId": "05a16c23-3102-44fb-e48a-59796e8838cf"
      },
      "source": [
        "minha_matriz"
      ],
      "execution_count": 21,
      "outputs": [
        {
          "output_type": "execute_result",
          "data": {
            "text/plain": [
              "[[1, 2, 3], [4, 5, 6], [7, 8, 9]]"
            ]
          },
          "metadata": {
            "tags": []
          },
          "execution_count": 21
        }
      ]
    },
    {
      "cell_type": "code",
      "metadata": {
        "colab": {
          "base_uri": "https://localhost:8080/"
        },
        "id": "0Rp-nQ32zCva",
        "outputId": "e2a2ad03-88ef-4811-c1bf-d14716175074"
      },
      "source": [
        "np.array(minha_matriz)"
      ],
      "execution_count": 22,
      "outputs": [
        {
          "output_type": "execute_result",
          "data": {
            "text/plain": [
              "array([[1, 2, 3],\n",
              "       [4, 5, 6],\n",
              "       [7, 8, 9]])"
            ]
          },
          "metadata": {
            "tags": []
          },
          "execution_count": 22
        }
      ]
    },
    {
      "cell_type": "code",
      "metadata": {
        "colab": {
          "base_uri": "https://localhost:8080/"
        },
        "id": "A_Vwgq0NzGay",
        "outputId": "7677cc94-ee8c-4dbf-f2a9-67d440599a0a"
      },
      "source": [
        "np.arange(0, 10)"
      ],
      "execution_count": 23,
      "outputs": [
        {
          "output_type": "execute_result",
          "data": {
            "text/plain": [
              "array([0, 1, 2, 3, 4, 5, 6, 7, 8, 9])"
            ]
          },
          "metadata": {
            "tags": []
          },
          "execution_count": 23
        }
      ]
    },
    {
      "cell_type": "code",
      "metadata": {
        "colab": {
          "base_uri": "https://localhost:8080/"
        },
        "id": "zACeQuvgzL3q",
        "outputId": "e3e2b2e5-0aea-479f-f3d6-f79592dfc143"
      },
      "source": [
        "np.arange(0, 10, 2)"
      ],
      "execution_count": 24,
      "outputs": [
        {
          "output_type": "execute_result",
          "data": {
            "text/plain": [
              "array([0, 2, 4, 6, 8])"
            ]
          },
          "metadata": {
            "tags": []
          },
          "execution_count": 24
        }
      ]
    },
    {
      "cell_type": "code",
      "metadata": {
        "colab": {
          "base_uri": "https://localhost:8080/"
        },
        "id": "9nYdBf9CzP3S",
        "outputId": "7c799206-c72f-4b80-89b5-831e3459cd90"
      },
      "source": [
        "np.zeros(3)"
      ],
      "execution_count": 25,
      "outputs": [
        {
          "output_type": "execute_result",
          "data": {
            "text/plain": [
              "array([0., 0., 0.])"
            ]
          },
          "metadata": {
            "tags": []
          },
          "execution_count": 25
        }
      ]
    },
    {
      "cell_type": "code",
      "metadata": {
        "id": "xBUdZRjUzWHq"
      },
      "source": [
        "arr = np.zeros(3)"
      ],
      "execution_count": 26,
      "outputs": []
    },
    {
      "cell_type": "code",
      "metadata": {
        "colab": {
          "base_uri": "https://localhost:8080/"
        },
        "id": "fdPY8-A_zb4a",
        "outputId": "47243bcb-a764-459e-e010-0741bb7832ad"
      },
      "source": [
        "arr"
      ],
      "execution_count": 27,
      "outputs": [
        {
          "output_type": "execute_result",
          "data": {
            "text/plain": [
              "array([0., 0., 0.])"
            ]
          },
          "metadata": {
            "tags": []
          },
          "execution_count": 27
        }
      ]
    },
    {
      "cell_type": "code",
      "metadata": {
        "id": "XGo39bdLzc-S"
      },
      "source": [
        "arr = np.zeros((5, 5))"
      ],
      "execution_count": 28,
      "outputs": []
    },
    {
      "cell_type": "code",
      "metadata": {
        "colab": {
          "base_uri": "https://localhost:8080/"
        },
        "id": "Mi30ekmSzkRS",
        "outputId": "14876586-6cff-41b4-8173-4153d836440e"
      },
      "source": [
        "arr\n"
      ],
      "execution_count": 29,
      "outputs": [
        {
          "output_type": "execute_result",
          "data": {
            "text/plain": [
              "array([[0., 0., 0., 0., 0.],\n",
              "       [0., 0., 0., 0., 0.],\n",
              "       [0., 0., 0., 0., 0.],\n",
              "       [0., 0., 0., 0., 0.],\n",
              "       [0., 0., 0., 0., 0.]])"
            ]
          },
          "metadata": {
            "tags": []
          },
          "execution_count": 29
        }
      ]
    },
    {
      "cell_type": "code",
      "metadata": {
        "colab": {
          "base_uri": "https://localhost:8080/"
        },
        "id": "py0pA_uAzk0x",
        "outputId": "e3f0184e-b891-4518-927d-46e752fb7d81"
      },
      "source": [
        "np.ones((3,3))"
      ],
      "execution_count": 30,
      "outputs": [
        {
          "output_type": "execute_result",
          "data": {
            "text/plain": [
              "array([[1., 1., 1.],\n",
              "       [1., 1., 1.],\n",
              "       [1., 1., 1.]])"
            ]
          },
          "metadata": {
            "tags": []
          },
          "execution_count": 30
        }
      ]
    },
    {
      "cell_type": "code",
      "metadata": {
        "colab": {
          "base_uri": "https://localhost:8080/"
        },
        "id": "KtGZjLSHzpOa",
        "outputId": "769dc4b6-58c6-4e2d-d10e-9321e9873ec6"
      },
      "source": [
        "np.eye(4)"
      ],
      "execution_count": 31,
      "outputs": [
        {
          "output_type": "execute_result",
          "data": {
            "text/plain": [
              "array([[1., 0., 0., 0.],\n",
              "       [0., 1., 0., 0.],\n",
              "       [0., 0., 1., 0.],\n",
              "       [0., 0., 0., 1.]])"
            ]
          },
          "metadata": {
            "tags": []
          },
          "execution_count": 31
        }
      ]
    },
    {
      "cell_type": "code",
      "metadata": {
        "colab": {
          "base_uri": "https://localhost:8080/"
        },
        "id": "-OW59gaZzrPJ",
        "outputId": "d8cbc044-8f1f-472c-ddf4-926f915b8235"
      },
      "source": [
        "np.linspace(0, 10, 2)"
      ],
      "execution_count": 32,
      "outputs": [
        {
          "output_type": "execute_result",
          "data": {
            "text/plain": [
              "array([ 0., 10.])"
            ]
          },
          "metadata": {
            "tags": []
          },
          "execution_count": 32
        }
      ]
    },
    {
      "cell_type": "code",
      "metadata": {
        "colab": {
          "base_uri": "https://localhost:8080/"
        },
        "id": "B2bIShHwz575",
        "outputId": "88ef83e0-d175-4ffd-d218-7e0587f07107"
      },
      "source": [
        "np.linspace(0, 10, 3)"
      ],
      "execution_count": 33,
      "outputs": [
        {
          "output_type": "execute_result",
          "data": {
            "text/plain": [
              "array([ 0.,  5., 10.])"
            ]
          },
          "metadata": {
            "tags": []
          },
          "execution_count": 33
        }
      ]
    },
    {
      "cell_type": "code",
      "metadata": {
        "colab": {
          "base_uri": "https://localhost:8080/"
        },
        "id": "w5k0NPUdz8VJ",
        "outputId": "90052036-883f-4667-e155-403e4c6fd92a"
      },
      "source": [
        "np.random.rand(5)"
      ],
      "execution_count": 34,
      "outputs": [
        {
          "output_type": "execute_result",
          "data": {
            "text/plain": [
              "array([0.13921339, 0.70700794, 0.48062311, 0.89745816, 0.72954084])"
            ]
          },
          "metadata": {
            "tags": []
          },
          "execution_count": 34
        }
      ]
    },
    {
      "cell_type": "code",
      "metadata": {
        "colab": {
          "base_uri": "https://localhost:8080/"
        },
        "id": "TOiG7Q2L0F9g",
        "outputId": "162601bc-1f64-4b88-bcf0-0b20c22fe3cc"
      },
      "source": [
        "np.random.rand(5) * 100"
      ],
      "execution_count": 35,
      "outputs": [
        {
          "output_type": "execute_result",
          "data": {
            "text/plain": [
              "array([14.46693888, 74.43291671, 58.60792181, 44.61761031, 69.5527402 ])"
            ]
          },
          "metadata": {
            "tags": []
          },
          "execution_count": 35
        }
      ]
    },
    {
      "cell_type": "code",
      "metadata": {
        "colab": {
          "base_uri": "https://localhost:8080/"
        },
        "id": "PrMGxtca0L_4",
        "outputId": "d2013a88-f15b-41b5-fedd-426469f3fd60"
      },
      "source": [
        "np.random.randn(5, 4, 3)"
      ],
      "execution_count": 39,
      "outputs": [
        {
          "output_type": "execute_result",
          "data": {
            "text/plain": [
              "array([[[-1.60131598, -0.21395669,  0.05542526],\n",
              "        [ 0.34696953,  0.9464118 ,  0.37949141],\n",
              "        [ 0.10691199,  0.1093802 ,  1.2075669 ],\n",
              "        [ 0.04299821,  0.03868086, -1.50920316]],\n",
              "\n",
              "       [[ 0.67324819, -0.70267737,  0.03999327],\n",
              "        [ 1.59260416, -0.78891091, -1.89666344],\n",
              "        [ 2.28607551, -1.35732678, -0.88816574],\n",
              "        [-1.20898091,  0.27076343,  1.38406102]],\n",
              "\n",
              "       [[-0.04374748, -0.09127924, -0.99738477],\n",
              "        [ 1.15445745,  0.81097421,  1.11708446],\n",
              "        [-1.02955974, -1.25589721, -0.01320583],\n",
              "        [ 0.39502443, -0.35079503, -2.9090985 ]],\n",
              "\n",
              "       [[-0.25609594,  1.02445507,  0.93232659],\n",
              "        [-0.97989014,  1.1232527 , -0.33697008],\n",
              "        [-0.04404657,  1.04922511,  0.10460618],\n",
              "        [-0.538125  , -0.36617817,  1.52635825]],\n",
              "\n",
              "       [[ 1.83087477, -1.43912979,  0.03382399],\n",
              "        [ 0.75831507, -1.12399859, -1.03600248],\n",
              "        [-0.550179  ,  1.0237054 ,  0.13294632],\n",
              "        [ 1.14049952, -0.96542249, -0.67017172]]])"
            ]
          },
          "metadata": {
            "tags": []
          },
          "execution_count": 39
        }
      ]
    },
    {
      "cell_type": "code",
      "metadata": {
        "colab": {
          "base_uri": "https://localhost:8080/"
        },
        "id": "Io1oubp40TTI",
        "outputId": "38e2c767-58dd-41f2-d93a-92910f619ec1"
      },
      "source": [
        "np.random.randint(0, 100 ,10)"
      ],
      "execution_count": 40,
      "outputs": [
        {
          "output_type": "execute_result",
          "data": {
            "text/plain": [
              "array([11,  6, 63,  4, 69, 82, 29,  3, 14, 48])"
            ]
          },
          "metadata": {
            "tags": []
          },
          "execution_count": 40
        }
      ]
    },
    {
      "cell_type": "code",
      "metadata": {
        "colab": {
          "base_uri": "https://localhost:8080/"
        },
        "id": "KqwIhipq0rro",
        "outputId": "bea5d4f9-207d-4fb1-e29b-25324e6f0dc2"
      },
      "source": [
        "np.random.rand(5) * 100"
      ],
      "execution_count": 41,
      "outputs": [
        {
          "output_type": "execute_result",
          "data": {
            "text/plain": [
              "array([26.30864959, 18.57940113, 45.37826556, 17.233097  , 19.04091422])"
            ]
          },
          "metadata": {
            "tags": []
          },
          "execution_count": 41
        }
      ]
    },
    {
      "cell_type": "code",
      "metadata": {
        "colab": {
          "base_uri": "https://localhost:8080/"
        },
        "id": "VV-73L-_02F3",
        "outputId": "d940766f-2739-44c7-80cd-8de46f471bba"
      },
      "source": [
        "np.round(np.random.rand(5)*100,0)"
      ],
      "execution_count": 42,
      "outputs": [
        {
          "output_type": "execute_result",
          "data": {
            "text/plain": [
              "array([64., 83.,  8., 59., 63.])"
            ]
          },
          "metadata": {
            "tags": []
          },
          "execution_count": 42
        }
      ]
    },
    {
      "cell_type": "code",
      "metadata": {
        "id": "CpRRL6tK0_5O"
      },
      "source": [
        "arr = np.random.rand(25)"
      ],
      "execution_count": 43,
      "outputs": []
    },
    {
      "cell_type": "code",
      "metadata": {
        "colab": {
          "base_uri": "https://localhost:8080/"
        },
        "id": "XVwOYSzY1Fp-",
        "outputId": "202c603f-bce3-4057-b9d6-63304920e87f"
      },
      "source": [
        "arr"
      ],
      "execution_count": 44,
      "outputs": [
        {
          "output_type": "execute_result",
          "data": {
            "text/plain": [
              "array([0.25279786, 0.37209056, 0.00461801, 0.55626451, 0.10573219,\n",
              "       0.24743999, 0.59377223, 0.01726812, 0.88385176, 0.01932946,\n",
              "       0.15094098, 0.80502669, 0.65534596, 0.56035611, 0.62935391,\n",
              "       0.329677  , 0.06607493, 0.79969714, 0.04572615, 0.98631543,\n",
              "       0.46067934, 0.75416004, 0.5887902 , 0.69520175, 0.69870816])"
            ]
          },
          "metadata": {
            "tags": []
          },
          "execution_count": 44
        }
      ]
    },
    {
      "cell_type": "code",
      "metadata": {
        "colab": {
          "base_uri": "https://localhost:8080/"
        },
        "id": "cxHx5G7D1GDF",
        "outputId": "1b7527d1-8687-4da8-f5e5-83b815632558"
      },
      "source": [
        "arr.reshape((5,5))"
      ],
      "execution_count": 48,
      "outputs": [
        {
          "output_type": "execute_result",
          "data": {
            "text/plain": [
              "array([[0.25279786, 0.37209056, 0.00461801, 0.55626451, 0.10573219],\n",
              "       [0.24743999, 0.59377223, 0.01726812, 0.88385176, 0.01932946],\n",
              "       [0.15094098, 0.80502669, 0.65534596, 0.56035611, 0.62935391],\n",
              "       [0.329677  , 0.06607493, 0.79969714, 0.04572615, 0.98631543],\n",
              "       [0.46067934, 0.75416004, 0.5887902 , 0.69520175, 0.69870816]])"
            ]
          },
          "metadata": {
            "tags": []
          },
          "execution_count": 48
        }
      ]
    },
    {
      "cell_type": "code",
      "metadata": {
        "colab": {
          "base_uri": "https://localhost:8080/"
        },
        "id": "POKxzdil1J7u",
        "outputId": "f64796fb-e359-4aac-e26d-7bf1093ac5d9"
      },
      "source": [
        "arr"
      ],
      "execution_count": 49,
      "outputs": [
        {
          "output_type": "execute_result",
          "data": {
            "text/plain": [
              "array([0.25279786, 0.37209056, 0.00461801, 0.55626451, 0.10573219,\n",
              "       0.24743999, 0.59377223, 0.01726812, 0.88385176, 0.01932946,\n",
              "       0.15094098, 0.80502669, 0.65534596, 0.56035611, 0.62935391,\n",
              "       0.329677  , 0.06607493, 0.79969714, 0.04572615, 0.98631543,\n",
              "       0.46067934, 0.75416004, 0.5887902 , 0.69520175, 0.69870816])"
            ]
          },
          "metadata": {
            "tags": []
          },
          "execution_count": 49
        }
      ]
    },
    {
      "cell_type": "code",
      "metadata": {
        "colab": {
          "base_uri": "https://localhost:8080/"
        },
        "id": "JI7_mn551KsW",
        "outputId": "99dcab5d-2fd2-47b0-e51e-ca3c5e9cc6ea"
      },
      "source": [
        "arr.shape"
      ],
      "execution_count": 50,
      "outputs": [
        {
          "output_type": "execute_result",
          "data": {
            "text/plain": [
              "(25,)"
            ]
          },
          "metadata": {
            "tags": []
          },
          "execution_count": 50
        }
      ]
    },
    {
      "cell_type": "code",
      "metadata": {
        "colab": {
          "base_uri": "https://localhost:8080/"
        },
        "id": "kAfvPrKx1Uub",
        "outputId": "773fb7f1-5564-4987-966f-1e7298080926"
      },
      "source": [
        "arr.max() #maior valor"
      ],
      "execution_count": 52,
      "outputs": [
        {
          "output_type": "execute_result",
          "data": {
            "text/plain": [
              "0.9863154267196534"
            ]
          },
          "metadata": {
            "tags": []
          },
          "execution_count": 52
        }
      ]
    },
    {
      "cell_type": "code",
      "metadata": {
        "colab": {
          "base_uri": "https://localhost:8080/"
        },
        "id": "tThd_nzl1gII",
        "outputId": "d7095792-9337-4128-98ea-8f159aef00f7"
      },
      "source": [
        "arr.min()#menor valor"
      ],
      "execution_count": 54,
      "outputs": [
        {
          "output_type": "execute_result",
          "data": {
            "text/plain": [
              "0.004618008648379024"
            ]
          },
          "metadata": {
            "tags": []
          },
          "execution_count": 54
        }
      ]
    },
    {
      "cell_type": "code",
      "metadata": {
        "colab": {
          "base_uri": "https://localhost:8080/"
        },
        "id": "DLlKcJ2L1jzG",
        "outputId": "5b88fe34-8ded-4278-9d36-a58dddd5ba6e"
      },
      "source": [
        "arr.argmax()#o indice em que o maior valor se encontra\n"
      ],
      "execution_count": 56,
      "outputs": [
        {
          "output_type": "execute_result",
          "data": {
            "text/plain": [
              "19"
            ]
          },
          "metadata": {
            "tags": []
          },
          "execution_count": 56
        }
      ]
    },
    {
      "cell_type": "code",
      "metadata": {
        "colab": {
          "base_uri": "https://localhost:8080/"
        },
        "id": "WDBfExwN1ng2",
        "outputId": "f2e0951d-dfe8-4fab-92cd-12ef825345cc"
      },
      "source": [
        "arr.argmin()#o indicie que o menor valor se encontra"
      ],
      "execution_count": 58,
      "outputs": [
        {
          "output_type": "execute_result",
          "data": {
            "text/plain": [
              "2"
            ]
          },
          "metadata": {
            "tags": []
          },
          "execution_count": 58
        }
      ]
    },
    {
      "cell_type": "code",
      "metadata": {
        "id": "wksVj06-1sb9"
      },
      "source": [
        ""
      ],
      "execution_count": null,
      "outputs": []
    },
    {
      "cell_type": "code",
      "metadata": {
        "id": "O_EzFAo42rdg"
      },
      "source": [
        ""
      ],
      "execution_count": null,
      "outputs": []
    }
  ]
}