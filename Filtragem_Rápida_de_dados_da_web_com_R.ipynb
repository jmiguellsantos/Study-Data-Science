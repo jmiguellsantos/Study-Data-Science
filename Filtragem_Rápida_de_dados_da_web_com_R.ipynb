{
  "nbformat": 4,
  "nbformat_minor": 0,
  "metadata": {
    "colab": {
      "name": "Filtragem Rápida de dados da web com R.ipynb",
      "provenance": [],
      "authorship_tag": "ABX9TyPOeUPEerVAg7/A1FvUOc3J",
      "include_colab_link": true
    },
    "kernelspec": {
      "name": "ir",
      "display_name": "R"
    },
    "language_info": {
      "name": "R"
    }
  },
  "cells": [
    {
      "cell_type": "markdown",
      "metadata": {
        "id": "view-in-github",
        "colab_type": "text"
      },
      "source": [
        "<a href=\"https://colab.research.google.com/github/jmiguellsantos/Study-DataScience-Python/blob/main/Filtragem_R%C3%A1pida_de_dados_da_web_com_R.ipynb\" target=\"_parent\"><img src=\"https://colab.research.google.com/assets/colab-badge.svg\" alt=\"Open In Colab\"/></a>"
      ]
    },
    {
      "cell_type": "code",
      "metadata": {
        "colab": {
          "base_uri": "https://localhost:8080/"
        },
        "id": "B7F0bi-UZn6B",
        "outputId": "2169e2c1-7d06-452b-bf9e-d982e048f0d4"
      },
      "source": [
        "install.packages(c(\"jsonlite\", \"curl\"))"
      ],
      "execution_count": 1,
      "outputs": [
        {
          "output_type": "stream",
          "text": [
            "Installing packages into ‘/usr/local/lib/R/site-library’\n",
            "(as ‘lib’ is unspecified)\n",
            "\n"
          ],
          "name": "stderr"
        }
      ]
    },
    {
      "cell_type": "code",
      "metadata": {
        "colab": {
          "base_uri": "https://localhost:8080/"
        },
        "id": "fnkOthaLZuIU",
        "outputId": "165bb1a4-8efd-466c-97a7-2d2439942b45"
      },
      "source": [
        "require(\"jsonlite\")\n"
      ],
      "execution_count": 2,
      "outputs": [
        {
          "output_type": "stream",
          "text": [
            "Loading required package: jsonlite\n",
            "\n"
          ],
          "name": "stderr"
        }
      ]
    },
    {
      "cell_type": "code",
      "metadata": {
        "id": "ypNgke4jZ0GC"
      },
      "source": [
        "f1 <- fromJSON('http://ergast.com/api/f1/1957/results.json')"
      ],
      "execution_count": 3,
      "outputs": []
    },
    {
      "cell_type": "code",
      "metadata": {
        "colab": {
          "base_uri": "https://localhost:8080/",
          "height": 1000
        },
        "id": "9U-yfiCVZ3Ba",
        "outputId": "33ccbc6b-9254-41e8-8851-82b55fdef391"
      },
      "source": [
        "f1"
      ],
      "execution_count": 4,
      "outputs": [
        {
          "output_type": "stream",
          "text": [
            "ERROR while rich displaying an object: Error in names(parts) <- colnames(x): 'names' attribute [4] must be the same length as the vector [2]\n",
            "\n",
            "Traceback:\n",
            "1. FUN(X[[i]], ...)\n",
            "2. tryCatch(withCallingHandlers({\n",
            " .     if (!mime %in% names(repr::mime2repr)) \n",
            " .         stop(\"No repr_* for mimetype \", mime, \" in repr::mime2repr\")\n",
            " .     rpr <- repr::mime2repr[[mime]](obj)\n",
            " .     if (is.null(rpr)) \n",
            " .         return(NULL)\n",
            " .     prepare_content(is.raw(rpr), rpr)\n",
            " . }, error = error_handler), error = outer_handler)\n",
            "3. tryCatchList(expr, classes, parentenv, handlers)\n",
            "4. tryCatchOne(expr, names, parentenv, handlers[[1L]])\n",
            "5. doTryCatch(return(expr), name, parentenv, handler)\n",
            "6. withCallingHandlers({\n",
            " .     if (!mime %in% names(repr::mime2repr)) \n",
            " .         stop(\"No repr_* for mimetype \", mime, \" in repr::mime2repr\")\n",
            " .     rpr <- repr::mime2repr[[mime]](obj)\n",
            " .     if (is.null(rpr)) \n",
            " .         return(NULL)\n",
            " .     prepare_content(is.raw(rpr), rpr)\n",
            " . }, error = error_handler)\n",
            "7. repr::mime2repr[[mime]](obj)\n",
            "8. repr_html.list(obj)\n",
            "9. repr_list_generic(obj, \"html\", \"\\t<li>%s</li>\\n\", \"\\t<dt>$%s</dt>\\n\\t\\t<dd>%s</dd>\\n\", \n",
            " .     \"<strong>$%s</strong> = %s\", \"<ol>\\n%s</ol>\\n\", \"<dl>\\n%s</dl>\\n\", \n",
            " .     numeric_item = \"\\t<dt>[[%s]]</dt>\\n\\t\\t<dd>%s</dd>\\n\", escape_fun = html_escape)\n",
            "10. lapply(vec, format2repr[[fmt]])\n",
            "11. FUN(X[[i]], ...)\n",
            "12. repr_html.list(X[[i]], ...)\n",
            "13. repr_list_generic(obj, \"html\", \"\\t<li>%s</li>\\n\", \"\\t<dt>$%s</dt>\\n\\t\\t<dd>%s</dd>\\n\", \n",
            "  .     \"<strong>$%s</strong> = %s\", \"<ol>\\n%s</ol>\\n\", \"<dl>\\n%s</dl>\\n\", \n",
            "  .     numeric_item = \"\\t<dt>[[%s]]</dt>\\n\\t\\t<dd>%s</dd>\\n\", escape_fun = html_escape)\n",
            "14. lapply(vec, format2repr[[fmt]])\n",
            "15. FUN(X[[i]], ...)\n",
            "16. repr_html.list(X[[i]], ...)\n",
            "17. repr_list_generic(obj, \"html\", \"\\t<li>%s</li>\\n\", \"\\t<dt>$%s</dt>\\n\\t\\t<dd>%s</dd>\\n\", \n",
            "  .     \"<strong>$%s</strong> = %s\", \"<ol>\\n%s</ol>\\n\", \"<dl>\\n%s</dl>\\n\", \n",
            "  .     numeric_item = \"\\t<dt>[[%s]]</dt>\\n\\t\\t<dd>%s</dd>\\n\", escape_fun = html_escape)\n",
            "18. lapply(vec, format2repr[[fmt]])\n",
            "19. FUN(X[[i]], ...)\n",
            "20. repr_html.data.frame(X[[i]], ...)\n",
            "21. repr_matrix_generic(obj, \"<table class=\\\"dataframe\\\">\\n<caption>%s</caption>\\n%s%s</table>\\n\", \n",
            "  .     \"<thead>\\n%s</thead>\\n\", \"\\t<tr>%s</tr>\\n\", \"<th></th>\", \n",
            "  .     \"<th scope=col>%s</th>\", \"<tbody>\\n%s</tbody>\\n\", \"\\t<tr>%s</tr>\\n\", \n",
            "  .     \"<th scope=row>%s</th>\", \"<td>%s</td>\", escape_fun = html_escape_vec, \n",
            "  .     rows = rows, cols = cols, ...)\n",
            "22. ellip_limit_arr(flatten(x), rows, cols)\n",
            "23. arr_partition(a, rows, cols)\n",
            "24. partition(nrow(a), rows)\n",
            "25. nrow(a)\n",
            "26. flatten(x)\n",
            "27. mapply(function(start, end, do_flatten) {\n",
            "  .     if (do_flatten) \n",
            "  .         flatten(x[, start:end])\n",
            "  .     else x[, start:end]\n",
            "  . }, start = start, end = end, do_flatten = dfcolumns$values, SIMPLIFY = FALSE)\n",
            "28. (function (start, end, do_flatten) \n",
            "  . {\n",
            "  .     if (do_flatten) \n",
            "  .         flatten(x[, start:end])\n",
            "  .     else x[, start:end]\n",
            "  . })(start = dots[[1L]][[2L]], end = dots[[2L]][[2L]], do_flatten = dots[[3L]][[2L]])\n",
            "29. flatten(x[, start:end])\n",
            "ERROR while rich displaying an object: Error in names(parts) <- colnames(x): 'names' attribute [4] must be the same length as the vector [2]\n",
            "\n",
            "Traceback:\n",
            "1. FUN(X[[i]], ...)\n",
            "2. tryCatch(withCallingHandlers({\n",
            " .     if (!mime %in% names(repr::mime2repr)) \n",
            " .         stop(\"No repr_* for mimetype \", mime, \" in repr::mime2repr\")\n",
            " .     rpr <- repr::mime2repr[[mime]](obj)\n",
            " .     if (is.null(rpr)) \n",
            " .         return(NULL)\n",
            " .     prepare_content(is.raw(rpr), rpr)\n",
            " . }, error = error_handler), error = outer_handler)\n",
            "3. tryCatchList(expr, classes, parentenv, handlers)\n",
            "4. tryCatchOne(expr, names, parentenv, handlers[[1L]])\n",
            "5. doTryCatch(return(expr), name, parentenv, handler)\n",
            "6. withCallingHandlers({\n",
            " .     if (!mime %in% names(repr::mime2repr)) \n",
            " .         stop(\"No repr_* for mimetype \", mime, \" in repr::mime2repr\")\n",
            " .     rpr <- repr::mime2repr[[mime]](obj)\n",
            " .     if (is.null(rpr)) \n",
            " .         return(NULL)\n",
            " .     prepare_content(is.raw(rpr), rpr)\n",
            " . }, error = error_handler)\n",
            "7. repr::mime2repr[[mime]](obj)\n",
            "8. repr_markdown.list(obj)\n",
            "9. repr_list_generic(obj, \"markdown\", \"%s. %s\\n\", \"$%s\\n:   %s\\n\", \n",
            " .     \"**$%s** = %s\", \"%s\\n\\n\", numeric_item = \"[[%s]]\\n:   %s\\n\", \n",
            " .     item_uses_numbers = TRUE, escape_fun = html_escape)\n",
            "10. lapply(vec, format2repr[[fmt]])\n",
            "11. FUN(X[[i]], ...)\n",
            "12. repr_markdown.list(X[[i]], ...)\n",
            "13. repr_list_generic(obj, \"markdown\", \"%s. %s\\n\", \"$%s\\n:   %s\\n\", \n",
            "  .     \"**$%s** = %s\", \"%s\\n\\n\", numeric_item = \"[[%s]]\\n:   %s\\n\", \n",
            "  .     item_uses_numbers = TRUE, escape_fun = html_escape)\n",
            "14. lapply(vec, format2repr[[fmt]])\n",
            "15. FUN(X[[i]], ...)\n",
            "16. repr_markdown.list(X[[i]], ...)\n",
            "17. repr_list_generic(obj, \"markdown\", \"%s. %s\\n\", \"$%s\\n:   %s\\n\", \n",
            "  .     \"**$%s** = %s\", \"%s\\n\\n\", numeric_item = \"[[%s]]\\n:   %s\\n\", \n",
            "  .     item_uses_numbers = TRUE, escape_fun = html_escape)\n",
            "18. lapply(vec, format2repr[[fmt]])\n",
            "19. FUN(X[[i]], ...)\n",
            "20. repr_markdown.data.frame(X[[i]], ...)\n",
            "21. flatten(obj)\n",
            "22. mapply(function(start, end, do_flatten) {\n",
            "  .     if (do_flatten) \n",
            "  .         flatten(x[, start:end])\n",
            "  .     else x[, start:end]\n",
            "  . }, start = start, end = end, do_flatten = dfcolumns$values, SIMPLIFY = FALSE)\n",
            "23. (function (start, end, do_flatten) \n",
            "  . {\n",
            "  .     if (do_flatten) \n",
            "  .         flatten(x[, start:end])\n",
            "  .     else x[, start:end]\n",
            "  . })(start = dots[[1L]][[2L]], end = dots[[2L]][[2L]], do_flatten = dots[[3L]][[2L]])\n",
            "24. flatten(x[, start:end])\n",
            "ERROR while rich displaying an object: Error in names(parts) <- colnames(x): 'names' attribute [4] must be the same length as the vector [2]\n",
            "\n",
            "Traceback:\n",
            "1. FUN(X[[i]], ...)\n",
            "2. tryCatch(withCallingHandlers({\n",
            " .     if (!mime %in% names(repr::mime2repr)) \n",
            " .         stop(\"No repr_* for mimetype \", mime, \" in repr::mime2repr\")\n",
            " .     rpr <- repr::mime2repr[[mime]](obj)\n",
            " .     if (is.null(rpr)) \n",
            " .         return(NULL)\n",
            " .     prepare_content(is.raw(rpr), rpr)\n",
            " . }, error = error_handler), error = outer_handler)\n",
            "3. tryCatchList(expr, classes, parentenv, handlers)\n",
            "4. tryCatchOne(expr, names, parentenv, handlers[[1L]])\n",
            "5. doTryCatch(return(expr), name, parentenv, handler)\n",
            "6. withCallingHandlers({\n",
            " .     if (!mime %in% names(repr::mime2repr)) \n",
            " .         stop(\"No repr_* for mimetype \", mime, \" in repr::mime2repr\")\n",
            " .     rpr <- repr::mime2repr[[mime]](obj)\n",
            " .     if (is.null(rpr)) \n",
            " .         return(NULL)\n",
            " .     prepare_content(is.raw(rpr), rpr)\n",
            " . }, error = error_handler)\n",
            "7. repr::mime2repr[[mime]](obj)\n",
            "8. repr_latex.list(obj)\n",
            "9. repr_list_generic(obj, \"latex\", \"\\\\item %s\\n\", \"\\\\item[\\\\$%s] %s\\n\", \n",
            " .     \"\\\\textbf{\\\\$%s} = %s\", enum_wrap = \"\\\\begin{enumerate}\\n%s\\\\end{enumerate}\\n\", \n",
            " .     named_wrap = \"\\\\begin{description}\\n%s\\\\end{description}\\n\", \n",
            " .     numeric_item = \"\\\\item[{[[%s]]}] %s\\n\", escape_fun = latex_escape)\n",
            "10. lapply(vec, format2repr[[fmt]])\n",
            "11. FUN(X[[i]], ...)\n",
            "12. repr_latex.list(X[[i]], ...)\n",
            "13. repr_list_generic(obj, \"latex\", \"\\\\item %s\\n\", \"\\\\item[\\\\$%s] %s\\n\", \n",
            "  .     \"\\\\textbf{\\\\$%s} = %s\", enum_wrap = \"\\\\begin{enumerate}\\n%s\\\\end{enumerate}\\n\", \n",
            "  .     named_wrap = \"\\\\begin{description}\\n%s\\\\end{description}\\n\", \n",
            "  .     numeric_item = \"\\\\item[{[[%s]]}] %s\\n\", escape_fun = latex_escape)\n",
            "14. lapply(vec, format2repr[[fmt]])\n",
            "15. FUN(X[[i]], ...)\n",
            "16. repr_latex.list(X[[i]], ...)\n",
            "17. repr_list_generic(obj, \"latex\", \"\\\\item %s\\n\", \"\\\\item[\\\\$%s] %s\\n\", \n",
            "  .     \"\\\\textbf{\\\\$%s} = %s\", enum_wrap = \"\\\\begin{enumerate}\\n%s\\\\end{enumerate}\\n\", \n",
            "  .     named_wrap = \"\\\\begin{description}\\n%s\\\\end{description}\\n\", \n",
            "  .     numeric_item = \"\\\\item[{[[%s]]}] %s\\n\", escape_fun = latex_escape)\n",
            "18. lapply(vec, format2repr[[fmt]])\n",
            "19. FUN(X[[i]], ...)\n",
            "20. repr_latex.data.frame(X[[i]], ...)\n",
            "21. repr_matrix_generic(obj, sprintf(\"%%s\\n\\\\begin{tabular}{%s}\\n%%s%%s\\\\end{tabular}\\n\", \n",
            "  .     cols_spec), \"%s\\\\hline\\n\", \"%s\\\\\\\\\\n\", \"  &\", \" %s &\", \"%s\", \n",
            "  .     \"\\t%s\\\\\\\\\\n\", \"%s &\", \" %s &\", escape_fun = latex_escape_vec, \n",
            "  .     rows = rows, cols = cols, ...)\n",
            "22. ellip_limit_arr(flatten(x), rows, cols)\n",
            "23. arr_partition(a, rows, cols)\n",
            "24. partition(nrow(a), rows)\n",
            "25. nrow(a)\n",
            "26. flatten(x)\n",
            "27. mapply(function(start, end, do_flatten) {\n",
            "  .     if (do_flatten) \n",
            "  .         flatten(x[, start:end])\n",
            "  .     else x[, start:end]\n",
            "  . }, start = start, end = end, do_flatten = dfcolumns$values, SIMPLIFY = FALSE)\n",
            "28. (function (start, end, do_flatten) \n",
            "  . {\n",
            "  .     if (do_flatten) \n",
            "  .         flatten(x[, start:end])\n",
            "  .     else x[, start:end]\n",
            "  . })(start = dots[[1L]][[2L]], end = dots[[2L]][[2L]], do_flatten = dots[[3L]][[2L]])\n",
            "29. flatten(x[, start:end])\n"
          ],
          "name": "stderr"
        },
        {
          "output_type": "display_data",
          "data": {
            "text/plain": [
              "$MRData\n",
              "$MRData$xmlns\n",
              "[1] \"http://ergast.com/mrd/1.4\"\n",
              "\n",
              "$MRData$series\n",
              "[1] \"f1\"\n",
              "\n",
              "$MRData$url\n",
              "[1] \"http://ergast.com/api/f1/1957/results.json\"\n",
              "\n",
              "$MRData$limit\n",
              "[1] \"30\"\n",
              "\n",
              "$MRData$offset\n",
              "[1] \"0\"\n",
              "\n",
              "$MRData$total\n",
              "[1] \"171\"\n",
              "\n",
              "$MRData$RaceTable\n",
              "$MRData$RaceTable$season\n",
              "[1] \"1957\"\n",
              "\n",
              "$MRData$RaceTable$Races\n",
              "  season round                                                    url\n",
              "1   1957     1 http://en.wikipedia.org/wiki/1957_Argentine_Grand_Prix\n",
              "2   1957     2    http://en.wikipedia.org/wiki/1957_Monaco_Grand_Prix\n",
              "              raceName Circuit.circuitId\n",
              "1 Argentine Grand Prix            galvez\n",
              "2    Monaco Grand Prix            monaco\n",
              "                                                            Circuit.url\n",
              "1 http://en.wikipedia.org/wiki/Aut%C3%B3dromo_Oscar_Alfredo_G%C3%A1lvez\n",
              "2                        http://en.wikipedia.org/wiki/Circuit_de_Monaco\n",
              "            Circuit.circuitName Circuit.Location.lat Circuit.Location.long\n",
              "1 Autódromo Juan y Oscar Gálvez             -34.6943              -58.4593\n",
              "2             Circuit de Monaco              43.7347               7.42056\n",
              "  Circuit.Location.locality Circuit.Location.country       date\n",
              "1              Buenos Aires                Argentina 1957-01-13\n",
              "2               Monte-Carlo                   Monaco 1957-05-19\n",
              "                                                                                                                                                                                                                                                                                                                                                                                                                                                                                                                                                                                                                                                                                                                                                                                                                                                                                                                                                                                                                                                                                                                                                                                                                                                                                                                                                                                                                                                                                                                                                                                                                                                                                                                                                                                                                                                                                                                                                                                                                                                                                                                                                                                                                                                                                                                                                                                                                                                                                                                                                                                                                                                                                                                                                                                                                                                                                                                                                                                                                                                                                                                                                                                                                                                                                                                                                                                                                                                                                                                                                                                                                                                                        Results\n",
              "1 2, 6, 8, 22, 20, 20, 18, 18, 18, 24, 4, 26, 28, 14, 16, 12, 10, 1, 2, 3, 4, 5, 5, 6, 6, 6, 7, 8, 9, 10, 11, 12, 13, 14, 1, 2, 3, 4, 5, 5, 6, 6, 6, 7, 8, 9, 10, R, R, R, R, 8, 6, 4, 3, 1, 1, 0, 0, 0, 0, 1, 0, 0, 0, 0, 0, 0, fangio, behra, menditeguy, schell, gonzalez, portago, collins, trips, perdisa, bonnier, moss, tomaso, piotti, castellotti, hawthorn, musso, collins, http://en.wikipedia.org/wiki/Juan_Manuel_Fangio, http://en.wikipedia.org/wiki/Jean_Behra, http://en.wikipedia.org/wiki/Carlos_Menditeguy, http://en.wikipedia.org/wiki/Harry_Schell, http://en.wikipedia.org/wiki/Jos%C3%A9_Froil%C3%A1n_Gonz%C3%A1lez, http://en.wikipedia.org/wiki/Alfonso_de_Portago, http://en.wikipedia.org/wiki/Peter_Collins_(racing_driver), http://en.wikipedia.org/wiki/Wolfgang_Graf_Berghe_von_Trips, http://en.wikipedia.org/wiki/Cesare_Perdisa, http://en.wikipedia.org/wiki/Joakim_Bonnier, http://en.wikipedia.org/wiki/Stirling_Moss, http://en.wikipedia.org/wiki/Alessandro_de_Tomaso, http://en.wikipedia.org/wiki/Luigi_Piotti, http://en.wikipedia.org/wiki/Eugenio_Castellotti, http://en.wikipedia.org/wiki/Mike_Hawthorn, http://en.wikipedia.org/wiki/Luigi_Musso, http://en.wikipedia.org/wiki/Peter_Collins_(racing_driver), Juan, Jean, Carlos, Harry, José Froilán, Alfonso, Peter, Wolfgang, Cesare, Jo, Stirling, Alessandro, Luigi, Eugenio, Mike, Luigi, Peter, Fangio, Behra, Menditeguy, Schell, González, de Portago, Collins, von Trips, Perdisa, Bonnier, Moss, de Tomaso, Piotti, Castellotti, Hawthorn, Musso, Collins, 1911-06-24, 1921-02-16, 1914-08-10, 1921-06-29, 1922-10-05, 1928-10-11, 1931-11-06, 1928-05-04, 1932-10-21, 1930-01-31, 1929-09-17, 1928-07-10, 1913-10-27, 1930-10-10, 1929-04-10, 1924-07-28, 1931-11-06, Argentine, French, Argentine, American, Argentine, Spanish, British, German, Italian, Swedish, British, Argentine-Italian, Italian, Italian, British, Italian, British, maserati, maserati, maserati, maserati, ferrari, ferrari, ferrari, ferrari, ferrari, maserati, maserati, ferrari, maserati, ferrari, ferrari, ferrari, ferrari, http://en.wikipedia.org/wiki/Maserati, http://en.wikipedia.org/wiki/Maserati, http://en.wikipedia.org/wiki/Maserati, http://en.wikipedia.org/wiki/Maserati, http://en.wikipedia.org/wiki/Scuderia_Ferrari, http://en.wikipedia.org/wiki/Scuderia_Ferrari, http://en.wikipedia.org/wiki/Scuderia_Ferrari, http://en.wikipedia.org/wiki/Scuderia_Ferrari, http://en.wikipedia.org/wiki/Scuderia_Ferrari, http://en.wikipedia.org/wiki/Maserati, http://en.wikipedia.org/wiki/Maserati, http://en.wikipedia.org/wiki/Scuderia_Ferrari, http://en.wikipedia.org/wiki/Maserati, http://en.wikipedia.org/wiki/Scuderia_Ferrari, http://en.wikipedia.org/wiki/Scuderia_Ferrari, http://en.wikipedia.org/wiki/Scuderia_Ferrari, http://en.wikipedia.org/wiki/Scuderia_Ferrari, Maserati, Maserati, Maserati, Maserati, Ferrari, Ferrari, Ferrari, Ferrari, Ferrari, Maserati, Maserati, Ferrari, Maserati, Ferrari, Ferrari, Ferrari, Ferrari, Italian, Italian, Italian, Italian, Italian, Italian, Italian, Italian, Italian, Italian, Italian, Italian, Italian, Italian, Italian, Italian, Italian, 2, 3, 8, 9, 10, 10, 11, 11, 11, 13, 1, 12, 14, 4, 7, 6, 5, 100, 100, 99, 98, 98, 98, 98, 98, 98, 95, 93, 91, 90, 75, 35, 31, 26, Finished, Finished, +1 Lap, +2 Laps, +2 Laps, +2 Laps, +2 Laps, +2 Laps, +2 Laps, +5 Laps, +7 Laps, +9 Laps, +10 Laps, Wheel, Clutch, Clutch, Clutch, 10855900, 10874200, NA, NA, NA, NA, NA, NA, NA, NA, NA, NA, NA, NA, NA, NA, NA, 3:00:55.9, +18.3, NA, NA, NA, NA, NA, NA, NA, NA, NA, NA, NA, NA, NA, NA, NA\n",
              "2                                                                                                                                                                                                                                                                                                                                                                                                                                                                                                                                                                                                                                                                                                                                                                                                                                                                           32, 20, 2, 10, 30, 14, 24, 24, 34, 34, 6, 36, 12, 1, 2, 3, 4, 5, 6, 7, 7, 8, 8, 9, 10, 11, 1, 2, 3, 4, 5, 6, R, R, R, R, R, R, R, 9, 6, 4, 3, 2, 0, 0, 0, 0, 0, 0, 0, 0, fangio, brooks, gregory, lewis-evans, trintignant, jack_brabham, trips, hawthorn, schell, scarlatti, flockhart, menditeguy, bueb, http://en.wikipedia.org/wiki/Juan_Manuel_Fangio, http://en.wikipedia.org/wiki/Tony_Brooks, http://en.wikipedia.org/wiki/Masten_Gregory, http://en.wikipedia.org/wiki/Stuart_Lewis-Evans, http://en.wikipedia.org/wiki/Maurice_Trintignant, http://en.wikipedia.org/wiki/Jack_Brabham, http://en.wikipedia.org/wiki/Wolfgang_Graf_Berghe_von_Trips, http://en.wikipedia.org/wiki/Mike_Hawthorn, http://en.wikipedia.org/wiki/Harry_Schell, http://en.wikipedia.org/wiki/Giorgio_Scarlatti, http://en.wikipedia.org/wiki/Ron_Flockhart_(auto_racing), http://en.wikipedia.org/wiki/Carlos_Menditeguy, http://en.wikipedia.org/wiki/Ivor_Bueb, Juan, Tony, Masten, Stuart, Maurice, Jack, Wolfgang, Mike, Harry, Giorgio, Ron, Carlos, Ivor, Fangio, Brooks, Gregory, Lewis-Evans, Trintignant, Brabham, von Trips, Hawthorn, Schell, Scarlatti, Flockhart, Menditeguy, Bueb, 1911-06-24, 1932-02-25, 1932-02-29, 1930-04-20, 1917-10-30, 1926-04-02, 1928-05-04, 1929-04-10, 1921-06-29, 1921-10-02, 1923-06-16, 1914-08-10, 1923-06-06, Argentine, British, American, British, French, Australian, German, British, American, Italian, British, Argentine, British, maserati, vanwall, maserati, connaught, ferrari, cooper, ferrari, ferrari, maserati, maserati, brm, maserati, connaught, http://en.wikipedia.org/wiki/Maserati, http://en.wikipedia.org/wiki/Vanwall, http://en.wikipedia.org/wiki/Maserati, http://en.wikipedia.org/wiki/Connaught_Engineering, http://en.wikipedia.org/wiki/Scuderia_Ferrari, http://en.wikipedia.org/wiki/Cooper_Car_Company, http://en.wikipedia.org/wiki/Scuderia_Ferrari, http://en.wikipedia.org/wiki/Scuderia_Ferrari, http://en.wikipedia.org/wiki/Maserati, http://en.wikipedia.org/wiki/Maserati, http://en.wikipedia.org/wiki/BRM, http://en.wikipedia.org/wiki/Maserati, http://en.wikipedia.org/wiki/Connaught_Engineering, Maserati, Vanwall, Maserati, Connaught, Ferrari, Cooper, Ferrari, Ferrari, Maserati, Maserati, BRM, Maserati, Connaught, Italian, British, Italian, British, Italian, British, Italian, Italian, Italian, Italian, British, Italian, British, 1, 4, 10, 13, 6, 15, 9, 9, 14, 14, 11, 7, 16, 105, 105, 103, 102, 100, 100, 95, 95, 64, 64, 60, 51, 47, Finished, Finished, +2 Laps, +3 Laps, +5 Laps, +5 Laps, Engine, Engine, Oil leak, Oil leak, Engine, Spun off, Fuel leak, 11412800, 11438000, NA, NA, NA, NA, NA, NA, NA, NA, NA, NA, NA, 3:10:12.8, +25.2, NA, NA, NA, NA, NA, NA, NA, NA, NA, NA, NA\n",
              "\n",
              "\n"
            ]
          },
          "metadata": {
            "tags": []
          }
        }
      ]
    },
    {
      "cell_type": "code",
      "metadata": {
        "colab": {
          "base_uri": "https://localhost:8080/"
        },
        "id": "mxiEaiaEZ4nq",
        "outputId": "4df3279a-134d-48d8-db63-a6b69c583a3c"
      },
      "source": [
        "str(f1)"
      ],
      "execution_count": 5,
      "outputs": [
        {
          "output_type": "stream",
          "text": [
            "List of 1\n",
            " $ MRData:List of 7\n",
            "  ..$ xmlns    : chr \"http://ergast.com/mrd/1.4\"\n",
            "  ..$ series   : chr \"f1\"\n",
            "  ..$ url      : chr \"http://ergast.com/api/f1/1957/results.json\"\n",
            "  ..$ limit    : chr \"30\"\n",
            "  ..$ offset   : chr \"0\"\n",
            "  ..$ total    : chr \"171\"\n",
            "  ..$ RaceTable:List of 2\n",
            "  .. ..$ season: chr \"1957\"\n",
            "  .. ..$ Races :'data.frame':\t2 obs. of  7 variables:\n",
            "  .. .. ..$ season  : chr [1:2] \"1957\" \"1957\"\n",
            "  .. .. ..$ round   : chr [1:2] \"1\" \"2\"\n",
            "  .. .. ..$ url     : chr [1:2] \"http://en.wikipedia.org/wiki/1957_Argentine_Grand_Prix\" \"http://en.wikipedia.org/wiki/1957_Monaco_Grand_Prix\"\n",
            "  .. .. ..$ raceName: chr [1:2] \"Argentine Grand Prix\" \"Monaco Grand Prix\"\n",
            "  .. .. ..$ Circuit :'data.frame':\t2 obs. of  4 variables:\n",
            "  .. .. .. ..$ circuitId  : chr [1:2] \"galvez\" \"monaco\"\n",
            "  .. .. .. ..$ url        : chr [1:2] \"http://en.wikipedia.org/wiki/Aut%C3%B3dromo_Oscar_Alfredo_G%C3%A1lvez\" \"http://en.wikipedia.org/wiki/Circuit_de_Monaco\"\n",
            "  .. .. .. ..$ circuitName: chr [1:2] \"Autódromo Juan y Oscar Gálvez\" \"Circuit de Monaco\"\n",
            "  .. .. .. ..$ Location   :'data.frame':\t2 obs. of  4 variables:\n",
            "  .. .. .. .. ..$ lat     : chr [1:2] \"-34.6943\" \"43.7347\"\n",
            "  .. .. .. .. ..$ long    : chr [1:2] \"-58.4593\" \"7.42056\"\n",
            "  .. .. .. .. ..$ locality: chr [1:2] \"Buenos Aires\" \"Monte-Carlo\"\n",
            "  .. .. .. .. ..$ country : chr [1:2] \"Argentina\" \"Monaco\"\n",
            "  .. .. ..$ date    : chr [1:2] \"1957-01-13\" \"1957-05-19\"\n",
            "  .. .. ..$ Results :List of 2\n",
            "  .. .. .. ..$ :'data.frame':\t17 obs. of  10 variables:\n",
            "  .. .. .. .. ..$ number      : chr [1:17] \"2\" \"6\" \"8\" \"22\" ...\n",
            "  .. .. .. .. ..$ position    : chr [1:17] \"1\" \"2\" \"3\" \"4\" ...\n",
            "  .. .. .. .. ..$ positionText: chr [1:17] \"1\" \"2\" \"3\" \"4\" ...\n",
            "  .. .. .. .. ..$ points      : chr [1:17] \"8\" \"6\" \"4\" \"3\" ...\n",
            "  .. .. .. .. ..$ Driver      :'data.frame':\t17 obs. of  6 variables:\n",
            "  .. .. .. .. .. ..$ driverId   : chr [1:17] \"fangio\" \"behra\" \"menditeguy\" \"schell\" ...\n",
            "  .. .. .. .. .. ..$ url        : chr [1:17] \"http://en.wikipedia.org/wiki/Juan_Manuel_Fangio\" \"http://en.wikipedia.org/wiki/Jean_Behra\" \"http://en.wikipedia.org/wiki/Carlos_Menditeguy\" \"http://en.wikipedia.org/wiki/Harry_Schell\" ...\n",
            "  .. .. .. .. .. ..$ givenName  : chr [1:17] \"Juan\" \"Jean\" \"Carlos\" \"Harry\" ...\n",
            "  .. .. .. .. .. ..$ familyName : chr [1:17] \"Fangio\" \"Behra\" \"Menditeguy\" \"Schell\" ...\n",
            "  .. .. .. .. .. ..$ dateOfBirth: chr [1:17] \"1911-06-24\" \"1921-02-16\" \"1914-08-10\" \"1921-06-29\" ...\n",
            "  .. .. .. .. .. ..$ nationality: chr [1:17] \"Argentine\" \"French\" \"Argentine\" \"American\" ...\n",
            "  .. .. .. .. ..$ Constructor :'data.frame':\t17 obs. of  4 variables:\n",
            "  .. .. .. .. .. ..$ constructorId: chr [1:17] \"maserati\" \"maserati\" \"maserati\" \"maserati\" ...\n",
            "  .. .. .. .. .. ..$ url          : chr [1:17] \"http://en.wikipedia.org/wiki/Maserati\" \"http://en.wikipedia.org/wiki/Maserati\" \"http://en.wikipedia.org/wiki/Maserati\" \"http://en.wikipedia.org/wiki/Maserati\" ...\n",
            "  .. .. .. .. .. ..$ name         : chr [1:17] \"Maserati\" \"Maserati\" \"Maserati\" \"Maserati\" ...\n",
            "  .. .. .. .. .. ..$ nationality  : chr [1:17] \"Italian\" \"Italian\" \"Italian\" \"Italian\" ...\n",
            "  .. .. .. .. ..$ grid        : chr [1:17] \"2\" \"3\" \"8\" \"9\" ...\n",
            "  .. .. .. .. ..$ laps        : chr [1:17] \"100\" \"100\" \"99\" \"98\" ...\n",
            "  .. .. .. .. ..$ status      : chr [1:17] \"Finished\" \"Finished\" \"+1 Lap\" \"+2 Laps\" ...\n",
            "  .. .. .. .. ..$ Time        :'data.frame':\t17 obs. of  2 variables:\n",
            "  .. .. .. .. .. ..$ millis: chr [1:17] \"10855900\" \"10874200\" NA NA ...\n",
            "  .. .. .. .. .. ..$ time  : chr [1:17] \"3:00:55.9\" \"+18.3\" NA NA ...\n",
            "  .. .. .. ..$ :'data.frame':\t13 obs. of  10 variables:\n",
            "  .. .. .. .. ..$ number      : chr [1:13] \"32\" \"20\" \"2\" \"10\" ...\n",
            "  .. .. .. .. ..$ position    : chr [1:13] \"1\" \"2\" \"3\" \"4\" ...\n",
            "  .. .. .. .. ..$ positionText: chr [1:13] \"1\" \"2\" \"3\" \"4\" ...\n",
            "  .. .. .. .. ..$ points      : chr [1:13] \"9\" \"6\" \"4\" \"3\" ...\n",
            "  .. .. .. .. ..$ Driver      :'data.frame':\t13 obs. of  6 variables:\n",
            "  .. .. .. .. .. ..$ driverId   : chr [1:13] \"fangio\" \"brooks\" \"gregory\" \"lewis-evans\" ...\n",
            "  .. .. .. .. .. ..$ url        : chr [1:13] \"http://en.wikipedia.org/wiki/Juan_Manuel_Fangio\" \"http://en.wikipedia.org/wiki/Tony_Brooks\" \"http://en.wikipedia.org/wiki/Masten_Gregory\" \"http://en.wikipedia.org/wiki/Stuart_Lewis-Evans\" ...\n",
            "  .. .. .. .. .. ..$ givenName  : chr [1:13] \"Juan\" \"Tony\" \"Masten\" \"Stuart\" ...\n",
            "  .. .. .. .. .. ..$ familyName : chr [1:13] \"Fangio\" \"Brooks\" \"Gregory\" \"Lewis-Evans\" ...\n",
            "  .. .. .. .. .. ..$ dateOfBirth: chr [1:13] \"1911-06-24\" \"1932-02-25\" \"1932-02-29\" \"1930-04-20\" ...\n",
            "  .. .. .. .. .. ..$ nationality: chr [1:13] \"Argentine\" \"British\" \"American\" \"British\" ...\n",
            "  .. .. .. .. ..$ Constructor :'data.frame':\t13 obs. of  4 variables:\n",
            "  .. .. .. .. .. ..$ constructorId: chr [1:13] \"maserati\" \"vanwall\" \"maserati\" \"connaught\" ...\n",
            "  .. .. .. .. .. ..$ url          : chr [1:13] \"http://en.wikipedia.org/wiki/Maserati\" \"http://en.wikipedia.org/wiki/Vanwall\" \"http://en.wikipedia.org/wiki/Maserati\" \"http://en.wikipedia.org/wiki/Connaught_Engineering\" ...\n",
            "  .. .. .. .. .. ..$ name         : chr [1:13] \"Maserati\" \"Vanwall\" \"Maserati\" \"Connaught\" ...\n",
            "  .. .. .. .. .. ..$ nationality  : chr [1:13] \"Italian\" \"British\" \"Italian\" \"British\" ...\n",
            "  .. .. .. .. ..$ grid        : chr [1:13] \"1\" \"4\" \"10\" \"13\" ...\n",
            "  .. .. .. .. ..$ laps        : chr [1:13] \"105\" \"105\" \"103\" \"102\" ...\n",
            "  .. .. .. .. ..$ status      : chr [1:13] \"Finished\" \"Finished\" \"+2 Laps\" \"+3 Laps\" ...\n",
            "  .. .. .. .. ..$ Time        :'data.frame':\t13 obs. of  2 variables:\n",
            "  .. .. .. .. .. ..$ millis: chr [1:13] \"11412800\" \"11438000\" NA NA ...\n",
            "  .. .. .. .. .. ..$ time  : chr [1:13] \"3:10:12.8\" \"+25.2\" NA NA ...\n"
          ],
          "name": "stdout"
        }
      ]
    },
    {
      "cell_type": "code",
      "metadata": {
        "id": "Blfsy7lpZ_oR"
      },
      "source": [
        "dr <- f1$MRData$RaceTable$Races$Results[[1]]$Driver"
      ],
      "execution_count": 6,
      "outputs": []
    },
    {
      "cell_type": "code",
      "metadata": {
        "colab": {
          "base_uri": "https://localhost:8080/",
          "height": 34
        },
        "id": "l-vFEmJ6aDxx",
        "outputId": "3748fe2c-c0c1-4a1e-a0ca-5b52c19827dc"
      },
      "source": [
        "colnames(dr)"
      ],
      "execution_count": 7,
      "outputs": [
        {
          "output_type": "display_data",
          "data": {
            "text/plain": [
              "[1] \"driverId\"    \"url\"         \"givenName\"   \"familyName\"  \"dateOfBirth\"\n",
              "[6] \"nationality\""
            ],
            "text/latex": "\\begin{enumerate*}\n\\item 'driverId'\n\\item 'url'\n\\item 'givenName'\n\\item 'familyName'\n\\item 'dateOfBirth'\n\\item 'nationality'\n\\end{enumerate*}\n",
            "text/markdown": "1. 'driverId'\n2. 'url'\n3. 'givenName'\n4. 'familyName'\n5. 'dateOfBirth'\n6. 'nationality'\n\n\n",
            "text/html": [
              "<style>\n",
              ".list-inline {list-style: none; margin:0; padding: 0}\n",
              ".list-inline>li {display: inline-block}\n",
              ".list-inline>li:not(:last-child)::after {content: \"\\00b7\"; padding: 0 .5ex}\n",
              "</style>\n",
              "<ol class=list-inline><li>'driverId'</li><li>'url'</li><li>'givenName'</li><li>'familyName'</li><li>'dateOfBirth'</li><li>'nationality'</li></ol>\n"
            ]
          },
          "metadata": {
            "tags": []
          }
        }
      ]
    },
    {
      "cell_type": "code",
      "metadata": {
        "colab": {
          "base_uri": "https://localhost:8080/",
          "height": 163
        },
        "id": "gBruP1DuaFmy",
        "outputId": "46484415-4685-430a-d5fb-ace8bc330b4d"
      },
      "source": [
        "dr[1:5, c(\"givenName\",\"familyName\", \n",
        "+ \"dateOfBirth\", \"nationality\")]"
      ],
      "execution_count": 8,
      "outputs": [
        {
          "output_type": "error",
          "ename": "ERROR",
          "evalue": "ignored",
          "traceback": [
            "Error in +\"dateOfBirth\": invalid argument to unary operator\nTraceback:\n",
            "1. dr[1:5, c(\"givenName\", \"familyName\", +\"dateOfBirth\", \"nationality\")]",
            "2. `[.data.frame`(dr, 1:5, c(\"givenName\", \"familyName\", +\"dateOfBirth\", \n .     \"nationality\"))"
          ]
        }
      ]
    },
    {
      "cell_type": "code",
      "metadata": {
        "id": "CBPB5KnSaILx"
      },
      "source": [
        ""
      ],
      "execution_count": null,
      "outputs": []
    }
  ]
}